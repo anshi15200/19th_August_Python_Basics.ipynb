{
  "nbformat": 4,
  "nbformat_minor": 0,
  "metadata": {
    "colab": {
      "provenance": [],
      "toc_visible": true
    },
    "kernelspec": {
      "name": "python3",
      "display_name": "Python 3"
    },
    "language_info": {
      "name": "python"
    }
  },
  "cells": [
    {
      "cell_type": "code",
      "execution_count": null,
      "metadata": {
        "id": "TxXc-YXfhohN"
      },
      "outputs": [],
      "source": []
    },
    {
      "cell_type": "markdown",
      "source": [
        "TOPIC: Python Basics Variable\n"
      ],
      "metadata": {
        "id": "nHvW0sgwhwEC"
      }
    },
    {
      "cell_type": "code",
      "source": [],
      "metadata": {
        "id": "H-vSfX-hiGU-"
      },
      "execution_count": null,
      "outputs": []
    },
    {
      "cell_type": "markdown",
      "source": [
        "1. Declare two variables, `x` and `y`, and assign them integer values. Swap the\n",
        "values of these variables without using any temporary variable."
      ],
      "metadata": {
        "id": "L1C-65_fiG9v"
      }
    },
    {
      "cell_type": "code",
      "source": [
        "# Define variables x and y\n",
        "x = 5\n",
        "y = 10\n",
        "\n",
        "# Swap the values without using a temporary variable\n",
        "x = x + y\n",
        "y = x - y\n",
        "x = x - y\n",
        "\n",
        "# print the swapped values\n",
        "print(\"After swapping:\")\n",
        "print(\"x =\", x)\n",
        "print(\"y =\", y)\n"
      ],
      "metadata": {
        "colab": {
          "base_uri": "https://localhost:8080/"
        },
        "id": "RVjGCcdviIVG",
        "outputId": "020627be-ee3d-443e-91e2-1d81d96e8704"
      },
      "execution_count": 29,
      "outputs": [
        {
          "output_type": "stream",
          "name": "stdout",
          "text": [
            "After swapping:\n",
            "x = 10\n",
            "y = 5\n"
          ]
        }
      ]
    },
    {
      "cell_type": "code",
      "source": [],
      "metadata": {
        "id": "7ywxwpd6iJGS"
      },
      "execution_count": null,
      "outputs": []
    },
    {
      "cell_type": "markdown",
      "source": [
        "2. Create a program that calculates the area of a rectangle. Take the length and\n",
        "width as inputs from the user and store them in variables. Calculate and\n",
        "display the area.\n"
      ],
      "metadata": {
        "id": "YyX0iSMmiLWD"
      }
    },
    {
      "cell_type": "code",
      "source": [
        "# Get user input for length and width of rectangle\n",
        "length = float(input(\"Enter the length of the rectangle: \"))\n",
        "width = float(input(\"Enter the width of the rectangle: \"))\n",
        "\n",
        "# Calculating  the area with formula\n",
        "area = length * width\n",
        "\n",
        "# print the calculated area\n",
        "print(\"The area of the rectangle is:\", area)\n"
      ],
      "metadata": {
        "colab": {
          "base_uri": "https://localhost:8080/"
        },
        "id": "-e2fi6fCiQI1",
        "outputId": "7be7406f-6bed-49d9-8608-c62e4f8a5989"
      },
      "execution_count": 2,
      "outputs": [
        {
          "output_type": "stream",
          "name": "stdout",
          "text": [
            "Enter the length of the rectangle: 56.2\n",
            "Enter the width of the rectangle: 23.6\n",
            "The area of the rectangle is: 1326.3200000000002\n"
          ]
        }
      ]
    },
    {
      "cell_type": "code",
      "source": [],
      "metadata": {
        "id": "MSkOtHVOiipZ"
      },
      "execution_count": 2,
      "outputs": []
    },
    {
      "cell_type": "markdown",
      "source": [
        "3. Write a Python program that converts temperatures from Celsius to\n",
        "Fahrenheit. Take the temperature in Celsius as input, store it in a variable,\n",
        "convert it to Fahrenheit, and display the result."
      ],
      "metadata": {
        "id": "IKt0WOj0i__l"
      }
    },
    {
      "cell_type": "code",
      "source": [
        "#get input from user for temperature in celcius\n",
        "celsius=float(input('temperature in celcius'))\n",
        "\n",
        "#converting celcius to farenheit\n",
        "farenheit=(celsius * 9/5) + 32\n",
        "\n",
        "#print the calculated temperature\n",
        "print(\"temperature in farenheit is:\",farenheit)"
      ],
      "metadata": {
        "colab": {
          "base_uri": "https://localhost:8080/"
        },
        "id": "ujUR_BvQjEmJ",
        "outputId": "22c33bd6-529f-4330-a8db-cbdad3115047"
      },
      "execution_count": 6,
      "outputs": [
        {
          "output_type": "stream",
          "name": "stdout",
          "text": [
            "temperature in celcius84.6\n",
            "temperature in farenheit is: 184.28\n"
          ]
        }
      ]
    },
    {
      "cell_type": "code",
      "source": [],
      "metadata": {
        "id": "A5-ECLgTjted"
      },
      "execution_count": 5,
      "outputs": []
    },
    {
      "cell_type": "markdown",
      "source": [
        "TOPIC: String Based Questions"
      ],
      "metadata": {
        "id": "27d3Zs81lGkw"
      }
    },
    {
      "cell_type": "code",
      "source": [],
      "metadata": {
        "id": "Oqhcgh7ull0A"
      },
      "execution_count": null,
      "outputs": []
    },
    {
      "cell_type": "markdown",
      "source": [
        "1. Write a Python program that takes a string as input and prints the length of\n",
        "the string."
      ],
      "metadata": {
        "id": "Okc1OxF1lmbs"
      }
    },
    {
      "cell_type": "code",
      "source": [
        "#taking a string from user as input\n",
        "a=input(\"string from user\")\n",
        "\n",
        "#for finding length\n",
        "len(a)\n",
        "\n",
        "#printing the length of the string\n",
        "print(\"the length of string is:\",len(a))"
      ],
      "metadata": {
        "colab": {
          "base_uri": "https://localhost:8080/"
        },
        "id": "_xFoo4IRlnTm",
        "outputId": "c75379bd-7ec5-4c63-b55e-d986dec3e127"
      },
      "execution_count": 9,
      "outputs": [
        {
          "output_type": "stream",
          "name": "stdout",
          "text": [
            "string from user\"anshika\"\n",
            "the length of string is: 9\n"
          ]
        }
      ]
    },
    {
      "cell_type": "code",
      "source": [],
      "metadata": {
        "id": "MYITqvnomYVl"
      },
      "execution_count": 9,
      "outputs": []
    },
    {
      "cell_type": "markdown",
      "source": [
        "2. Create a program that takes a sentence from the user and counts the number\n",
        "of vowels (a, e, i, o, u) in the string.\n"
      ],
      "metadata": {
        "id": "OQt60zHCmpr5"
      }
    },
    {
      "cell_type": "code",
      "source": [
        "# Get user input for a sentence\n",
        "sentence = input(\"Enter a sentence: \")\n",
        "\n",
        "# Define a set of vowels\n",
        "vowels = \"aeiouAEIOU\"\n",
        "\n",
        "# Initialize a counter for vowels\n",
        "vowel_count = 0\n",
        "\n",
        "# Iterate through each character in the sentence\n",
        "for char in sentence:\n",
        "    if char in vowels:\n",
        "        vowel_count += 1\n",
        "\n",
        "# Display the vowel count\n",
        "print(\"Number of vowels in the sentence:\", vowel_count)\n",
        "\n"
      ],
      "metadata": {
        "colab": {
          "base_uri": "https://localhost:8080/"
        },
        "id": "SnVPAvE-mtXF",
        "outputId": "b0678e42-790a-4c18-fab7-52fad72ba7e1"
      },
      "execution_count": 35,
      "outputs": [
        {
          "output_type": "stream",
          "name": "stdout",
          "text": [
            "Enter a sentence: myself anshika\n",
            "Number of vowels in the sentence: 4\n"
          ]
        }
      ]
    },
    {
      "cell_type": "markdown",
      "source": [
        "3. Given a string, reverse the order of characters using string slicing and print\n",
        "the reversed string."
      ],
      "metadata": {
        "id": "Ywb_ixAhpiSD"
      }
    },
    {
      "cell_type": "code",
      "source": [
        "#give a string\n",
        "a2=\"anshikarajput\"\n",
        "\n",
        "#using slicing for reversing order\n",
        "reverse=a2[::-1]\n",
        "\n",
        "#print the reverse order\n",
        "print(\"the reverse of given slice is\",reverse)"
      ],
      "metadata": {
        "colab": {
          "base_uri": "https://localhost:8080/"
        },
        "id": "_u6Cmr6ToOmS",
        "outputId": "7163c111-fcf9-4827-bba8-b6172d95ee8e"
      },
      "execution_count": 15,
      "outputs": [
        {
          "output_type": "stream",
          "name": "stdout",
          "text": [
            "the reverse of given slice is tupjarakihsna\n"
          ]
        }
      ]
    },
    {
      "cell_type": "markdown",
      "source": [
        "4. Write a program that takes a string as input and checks if it is a palindrome\n",
        "(reads the same forwards and backwards).\n"
      ],
      "metadata": {
        "id": "Q7FdPzo6uIOV"
      }
    },
    {
      "cell_type": "code",
      "source": [
        "# Get user input for a string\n",
        "string = input(\"Enter a string: \")\n",
        "\n",
        "# Remove spaces and convert to lowercase for case-insensitive comparison\n",
        "clean_string = string.replace(\" \", \"\").lower()\n",
        "\n",
        "# Check if the cleaned string is equal to its reverse\n",
        "if clean_string == clean_string[::-1]:\n",
        "    print(\"The string is a palindrome.\")\n",
        "else:\n",
        "    print(\"The string is not a palindrome.\")\n"
      ],
      "metadata": {
        "colab": {
          "base_uri": "https://localhost:8080/"
        },
        "id": "REj8yOh6p8fi",
        "outputId": "e175a1f8-e287-4685-a175-206bcc6baa65"
      },
      "execution_count": 23,
      "outputs": [
        {
          "output_type": "stream",
          "name": "stdout",
          "text": [
            "Enter a string: pwskills\n",
            "The string is not a palindrome.\n"
          ]
        }
      ]
    },
    {
      "cell_type": "code",
      "source": [],
      "metadata": {
        "id": "OerrkmqLvd7M"
      },
      "execution_count": null,
      "outputs": []
    },
    {
      "cell_type": "markdown",
      "source": [
        "5. Create a program that takes a string as input and removes all the spaces from\n",
        "it. Print the modified string without spaces."
      ],
      "metadata": {
        "id": "WSkwM8M7vg9G"
      }
    },
    {
      "cell_type": "code",
      "source": [
        "# Get input for a string from user\n",
        "string = input(\"Enter a string: \")\n",
        "\n",
        "# Remove spaces from the string\n",
        "string_without_spaces = string.replace(\" \", \"\")\n",
        "\n",
        "# Print the modified string without spaces\n",
        "print(\"Modified string without spaces:\", string_without_spaces)\n"
      ],
      "metadata": {
        "colab": {
          "base_uri": "https://localhost:8080/"
        },
        "id": "_BW2u6G4vhz0",
        "outputId": "a628a78a-579a-4b01-f342-55acd43ba65d"
      },
      "execution_count": 25,
      "outputs": [
        {
          "output_type": "stream",
          "name": "stdout",
          "text": [
            "Enter a string: this is my first assignment\n",
            "Modified string without spaces: thisismyfirstassignment\n"
          ]
        }
      ]
    },
    {
      "cell_type": "code",
      "source": [],
      "metadata": {
        "id": "YCnJiegWv7CB"
      },
      "execution_count": 25,
      "outputs": []
    }
  ]
}